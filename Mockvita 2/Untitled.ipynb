{
 "cells": [
  {
   "cell_type": "code",
   "execution_count": null,
   "metadata": {},
   "outputs": [],
   "source": [
    "Death Battle\n",
    "Problem Description\n",
    "In a crossover fantasy universe, Houin Kyoma is up in a battle against a powerful monster Nomu that can kill him in a single blow. However being a brilliant scientist Kyoma found a way to pause time for exactly M seconds. Each second, Kyoma attacks Nomu with certain power, which will reduce his health points by that exact power. Initially Nomu has H Health Points. Nomu dies when his Health Points reach 0. Normally Kyoma performs Normal Attack with power A. Besides from Kyoma’s brilliance, luck plays a major role in events of this universe. Kyoma’s Luck L is defined as probability of performing a super attack. A super attack increases power of Normal Attack by C. Given this information calculate and print the probability that Kyoma kills Nomu and survives. If Kyoma dies print “RIP”.\n",
    "\n",
    "Constraints\n",
    "0 < T <= 50\n",
    "\n",
    "1 <= A, H, C, L1, L2 <= 1000\n",
    "\n",
    "1 <= M <= 20.\n",
    "\n",
    "L1<=L2\n",
    "\n",
    "Input Format\n",
    "First line is integer T denoting number of test cases.\n",
    "\n",
    "Each test case consist of single line with space separated numbers A H L1 L2 M C. Where luck L is defined as L1/L2. Other numbers are, as described above.\n",
    "\n",
    "Output\n",
    "Print probability that Kyoma kills Nomu in form P1/P2 where P1<=P2 and gcd(P1,P2)=1. If impossible, print “RIP” without quotes.\n",
    "\n",
    "Timeout\n",
    "1\n",
    "\n",
    "Explanation\n",
    "Example 1\n",
    "\n",
    "Input\n",
    "\n",
    "2\n",
    "\n",
    "10 33 7 10 3 2\n",
    "\n",
    "10 999 7 10 3 2\n",
    "\n",
    "Output\n",
    "\n",
    "98/125\n",
    "\n",
    "RIP"
   ]
  }
 ],
 "metadata": {
  "kernelspec": {
   "display_name": "Python 3",
   "language": "python",
   "name": "python3"
  },
  "language_info": {
   "codemirror_mode": {
    "name": "ipython",
    "version": 3
   },
   "file_extension": ".py",
   "mimetype": "text/x-python",
   "name": "python",
   "nbconvert_exporter": "python",
   "pygments_lexer": "ipython3",
   "version": "3.7.1"
  }
 },
 "nbformat": 4,
 "nbformat_minor": 2
}
