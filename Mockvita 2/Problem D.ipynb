{
 "cells": [
  {
   "cell_type": "markdown",
   "metadata": {},
   "source": [
    "# Problem D\n"
   ]
  },
  {
   "cell_type": "markdown",
   "metadata": {},
   "source": [
    "# Petrol Pump\n",
    "\n",
    "\n",
    "### Problem Description\n",
    "A big group of students, starting a long journey on different set of vehicles need to fill petrol in their vehicles.\n",
    "\n",
    "As group leader you are required to minimize the time they spend at the petrol pump to start the journey at the earliest. You will be given the quantity of petrol (in litres) that can be filled in each vehicle. There are two petrol vending machines at the petrol pump. You need to arrange the vehicles in such a way that they take shortest possible time to fill all the vehicles and provide the time taken in seconds as output. Machine vends petrol @ 1litre/second.\n",
    "\n",
    "Assume that there is no time lost between switching vehicles to start filling petrol.\n",
    "\n",
    "#### Constraints\n",
    "1<= Number of vehicles < 50.\n",
    "\n",
    "0 <= Quantity of petrol required in any vehicle <= 200\n",
    "\n",
    "#### Input Format\n",
    "First line will provide the quantity of petrol (separated by space) that can be filled in each vehicle.\n",
    "\n",
    "#### Output\n",
    "Shortest possible time to fill petrol in all the vehicles.\n",
    "\n",
    "#### Timeout\n",
    "1\n",
    "\n",
    "#### Explanation\n",
    "##### Example 1\n",
    "\n",
    "###### Input\n",
    "\n",
    "1 2 3 4 5 10 11 3 6 16\n",
    "\n",
    "###### Output\n",
    "\n",
    "31\n",
    "\n",
    "###### Explanation\n",
    "\n",
    "First Petrol vending machine will cater to vehicles taking - 16, 6, 4, 3, 2 litres of petrol (Total 31 sec)\n",
    "\n",
    "Second machine will cater to vehicles taking - 11, 10, 5, 3, 1 litres of petrol (Total 30 sec)\n",
    "\n",
    "##### Example 2\n",
    "\n",
    "###### Input\n",
    "\n",
    "25 30 35 20 90 110 45 70 80 12 30 35 85\n",
    "\n",
    "###### Output\n",
    "\n",
    "335\n",
    "\n",
    "###### Explanation\n",
    "\n",
    "First Petrol vending machine will cater to vehicles taking - 80, 45, 35, 30, 25, 12, 85, 20 litres of petrol.\n",
    "\n",
    "Second machine will cater to vehicles taking - 90, 70, 35, 30, 110 litres of petrol. Since second machine will take more time, total time to fill petrol in all vehicles will be 335 seconds."
   ]
  },
  {
   "cell_type": "markdown",
   "metadata": {},
   "source": [
    "\n",
    "\n",
    "\n",
    "## Solution"
   ]
  },
  {
   "cell_type": "code",
   "execution_count": 15,
   "metadata": {},
   "outputs": [
    {
     "name": "stdout",
     "output_type": "stream",
     "text": [
      "1 2 3 4 5 10 11 3 6 16\n",
      "31\n"
     ]
    }
   ],
   "source": [
    "p = list(map(int,input().split()))\n",
    "\n",
    "s = sum(p)\n",
    "n = len(p)\n",
    "d = [[0]*(s+1) for i in range(n+1)]\n",
    "for i in range(0,n+1):\n",
    "    d[i][0] = 1\n",
    "for i in range(1,n+1):\n",
    "    for j in range(1,s+1):\n",
    "        d[i][j] = d[i-1][j]\n",
    "        if p[i-1]<=j:\n",
    "            if d[i][j] == 1 or d[i-1][j-p[i-1]] == 1:\n",
    "                d[i][j] = 1\n",
    "j = s//2\n",
    "while True:\n",
    "    if d[n][j] == 1:\n",
    "        print(s-j)\n",
    "        break\n",
    "    else:\n",
    "        j -= 1"
   ]
  }
 ],
 "metadata": {
  "kernelspec": {
   "display_name": "Python 3",
   "language": "python",
   "name": "python3"
  },
  "language_info": {
   "codemirror_mode": {
    "name": "ipython",
    "version": 3
   },
   "file_extension": ".py",
   "mimetype": "text/x-python",
   "name": "python",
   "nbconvert_exporter": "python",
   "pygments_lexer": "ipython3",
   "version": "3.7.1"
  }
 },
 "nbformat": 4,
 "nbformat_minor": 2
}
