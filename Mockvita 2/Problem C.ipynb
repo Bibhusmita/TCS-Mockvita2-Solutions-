{
 "cells": [
  {
   "cell_type": "markdown",
   "metadata": {},
   "source": [
    "Dole Out Cadbury\n",
    "Problem Description\n",
    "You are a teacher in reputed school. During Celebration Day you were assigned a task to distribute Cadbury such that maximum children get the chocolate. You have a box full of Cadbury with different width and height. You can only distribute largest square shape Cadbury. So if you have a Cadbury of length 10 and width 5, then you need to break Cadbury in 5X5 square and distribute to first child and then remaining 5X5 to next in queue\n",
    "\n",
    "Constraints\n",
    "0<P<Q<1501\n",
    "\n",
    "0<R<S<1501\n",
    "\n",
    "Input Format\n",
    "First line contains an integer P that denotes minimum length of Cadbury in the box\n",
    "\n",
    "Second line contains an integer Q that denotes maximum length of Cadbury in the box\n",
    "\n",
    "Third line contains an integer R that denotes minimum width of Cadbury in the box\n",
    "\n",
    "Fourth line contains an integer S that denotes maximum width of Cadbury in the box\n",
    "\n",
    "Output\n",
    "Print total number of children who will get chocolate.\n",
    "\n",
    "Timeout\n",
    "1\n",
    "\n",
    "Explanation\n",
    "Example 1\n",
    "\n",
    "Input\n",
    "\n",
    "5\n",
    "\n",
    "7\n",
    "\n",
    "3\n",
    "\n",
    "4\n",
    "\n",
    "Output\n",
    "\n",
    "24\n",
    "\n",
    "Explanation\n",
    "\n",
    "Length is in between 5 to 7 and width is in between 3 to 4.\n",
    "\n",
    "So we have 5X3,5X4,6X3,6X4,7X3,7X4 type of Cadbury in the box.\n",
    "\n",
    "If we take 5X3 :\n",
    "\n",
    "First, we can give 3X3 square Cadbury to 1st child .Then we are left with 3X2. Now largest square is 2X2 which will be given to next child. Next, we are left with two  1X1 part of Cadbury which will be given to another two children.\n",
    "\n",
    "And so on"
   ]
  },
  {
   "cell_type": "code",
   "execution_count": 2,
   "metadata": {},
   "outputs": [
    {
     "name": "stdout",
     "output_type": "stream",
     "text": [
      "5\n",
      "7\n",
      "3\n",
      "4\n",
      "3 5\n",
      "2 3\n",
      "4 5\n",
      "3 6\n",
      "3 3\n",
      "0 3\n"
     ]
    },
    {
     "ename": "ZeroDivisionError",
     "evalue": "integer division or modulo by zero",
     "output_type": "error",
     "traceback": [
      "\u001b[1;31m---------------------------------------------------------------------------\u001b[0m",
      "\u001b[1;31mZeroDivisionError\u001b[0m                         Traceback (most recent call last)",
      "\u001b[1;32m<ipython-input-2-aa6c530b3299>\u001b[0m in \u001b[0;36m<module>\u001b[1;34m\u001b[0m\n\u001b[0;32m     11\u001b[0m         \u001b[1;32mwhile\u001b[0m \u001b[1;32mTrue\u001b[0m\u001b[1;33m:\u001b[0m\u001b[1;33m\u001b[0m\u001b[1;33m\u001b[0m\u001b[0m\n\u001b[0;32m     12\u001b[0m             \u001b[0mprint\u001b[0m\u001b[1;33m(\u001b[0m\u001b[0mminimum\u001b[0m\u001b[1;33m,\u001b[0m \u001b[0mmaximum\u001b[0m\u001b[1;33m)\u001b[0m\u001b[1;33m\u001b[0m\u001b[1;33m\u001b[0m\u001b[0m\n\u001b[1;32m---> 13\u001b[1;33m             \u001b[0mc\u001b[0m \u001b[1;33m+=\u001b[0m \u001b[1;33m(\u001b[0m\u001b[0mmaximum\u001b[0m\u001b[1;33m//\u001b[0m\u001b[0mminimum\u001b[0m\u001b[1;33m)\u001b[0m\u001b[1;33m\u001b[0m\u001b[1;33m\u001b[0m\u001b[0m\n\u001b[0m\u001b[0;32m     14\u001b[0m             \u001b[0mn\u001b[0m \u001b[1;33m=\u001b[0m \u001b[0mmaximum\u001b[0m\u001b[1;33m-\u001b[0m\u001b[0mminimum\u001b[0m\u001b[1;33m\u001b[0m\u001b[1;33m\u001b[0m\u001b[0m\n\u001b[0;32m     15\u001b[0m             \u001b[0mmaximum\u001b[0m\u001b[1;33m,\u001b[0m \u001b[0mminimum\u001b[0m \u001b[1;33m=\u001b[0m \u001b[0mmax\u001b[0m\u001b[1;33m(\u001b[0m\u001b[0mn\u001b[0m\u001b[1;33m,\u001b[0m\u001b[0mminimum\u001b[0m\u001b[1;33m)\u001b[0m\u001b[1;33m,\u001b[0m\u001b[0mmin\u001b[0m\u001b[1;33m(\u001b[0m\u001b[0mn\u001b[0m\u001b[1;33m,\u001b[0m\u001b[0mminimum\u001b[0m\u001b[1;33m)\u001b[0m\u001b[1;33m\u001b[0m\u001b[1;33m\u001b[0m\u001b[0m\n",
      "\u001b[1;31mZeroDivisionError\u001b[0m: integer division or modulo by zero"
     ]
    }
   ],
   "source": [
    "p = int(input())\n",
    "q = int(input())\n",
    "r = int(input())\n",
    "s = int(input())\n",
    "count = 0\n",
    "for i in range(p,q+1):\n",
    "    c = 0\n",
    "    for j in range(r,s+1):\n",
    "        maximum = max(i,j)\n",
    "        minimum =  min(i,j)\n",
    "        while True:\n",
    "            print(minimum, maximum)\n",
    "            c += (maximum//minimum)\n",
    "            n = maximum-minimum\n",
    "            maximum, minimum = max(n,minimum),min(n,minimum)\n",
    "            if maximum == 1 or minimum == 1:\n",
    "                c += (maximum*minimum)\n",
    "                break\n",
    "    count += c\n",
    "print(count)\n",
    "        "
   ]
  },
  {
   "cell_type": "code",
   "execution_count": null,
   "metadata": {},
   "outputs": [],
   "source": []
  }
 ],
 "metadata": {
  "kernelspec": {
   "display_name": "Python 3",
   "language": "python",
   "name": "python3"
  },
  "language_info": {
   "codemirror_mode": {
    "name": "ipython",
    "version": 3
   },
   "file_extension": ".py",
   "mimetype": "text/x-python",
   "name": "python",
   "nbconvert_exporter": "python",
   "pygments_lexer": "ipython3",
   "version": "3.7.1"
  }
 },
 "nbformat": 4,
 "nbformat_minor": 2
}
