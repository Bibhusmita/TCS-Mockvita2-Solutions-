{
 "cells": [
  {
   "cell_type": "code",
   "execution_count": 5,
   "metadata": {},
   "outputs": [
    {
     "name": "stdout",
     "output_type": "stream",
     "text": [
      "rmrm mmrm\n",
      "rmrm mrmm\n",
      "rmrm rmmm\n",
      "mrm mmm\n",
      "rm mm\n",
      "rm mm\n",
      "rm mm\n",
      "2\n"
     ]
    }
   ],
   "source": [
    "n = int(input())\n",
    "b = input()\n",
    "g = input()\n",
    "\n",
    "count = 0\n",
    "while True:\n",
    "    j = 0\n",
    "    while j < len(g) and len(b)>0:\n",
    "        if b[0] == g[0]:\n",
    "            b = b[1:]\n",
    "            g = g[1:]\n",
    "            count += 1\n",
    "            j = 0\n",
    "            break\n",
    "        else:\n",
    "            g = g[1:]+g[0]\n",
    "            j += 1\n",
    "    if j>= len(g) or len(b) == 0:\n",
    "        print(n-count)\n",
    "        break\n",
    "        \n"
   ]
  },
  {
   "cell_type": "code",
   "execution_count": null,
   "metadata": {},
   "outputs": [],
   "source": []
  }
 ],
 "metadata": {
  "kernelspec": {
   "display_name": "Python 3",
   "language": "python",
   "name": "python3"
  },
  "language_info": {
   "codemirror_mode": {
    "name": "ipython",
    "version": 3
   },
   "file_extension": ".py",
   "mimetype": "text/x-python",
   "name": "python",
   "nbconvert_exporter": "python",
   "pygments_lexer": "ipython3",
   "version": "3.7.1"
  }
 },
 "nbformat": 4,
 "nbformat_minor": 2
}
