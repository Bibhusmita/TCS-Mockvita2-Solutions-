{
 "cells": [
  {
   "cell_type": "markdown",
   "metadata": {},
   "source": []
  },
  {
   "cell_type": "markdown",
   "metadata": {},
   "source": [
    "# Swayamvar \n",
    "\n",
    "## Problem Description \n",
    "A ceremony where a Bride chooses her Groom from an array of eligible bachelors is called Swayamvar. \n",
    "But this is a Swayamvar with difference. An array of Bride-to-be will choose from an array of Groom-to-be. The arrangement at this Swayamvar is as follows · \n",
    "\n",
    "Brides-to-be are organized such that the most eligible bachelorette will get first chance to choose her Groom. Only then, the next most eligible bachelorette will get a chance to choose her Groom · \n",
    "\n",
    "If the initial most eligible bachelorette does not get a Groom of her choice, none of the Brides-to-be have any chance at all to get married. So unless a senior bachelorette is out of the “queue”, the junior bachelorette does not get a chance to select her Groom-to-be · \n",
    "\n",
    "Inital state of Grooms-to-be is such that most eligible bachelor is at the head of the “queue”. The next most eligible bachelor is next in the queue. So on and so forth. · Now everything hinges on the choice of the bachelorette. The most eligible bachelorette will now meet the most eligible bachelor. · If bachelorette selects the bachelor, both, the bachelorette and the bachelor are now Bride and Groom respectively and will no longer be a part of the Swayamvar activity. Now, the next most eligible bachelorette will get a chance to choose her Groom. Her first option is the next most eligible bachelor (relative to initial state) · If the most eligible bachelorette passes the most eligible bachelor, the most eligible bachelor now moves to the end of the queue. The next most eligible bachelor is now considered by the most eligible bachelorette. Selection or Passing over will have the same consequences as explained earlier. · If most eligible bachelorette reaches the end of bachelor queue, then the Swayamvar is over. Nobody can get married. · Given a mix of Selection or Passing over, different pairs will get formed. The selection criteria is as follows 1. Each person either drinks rum or mojito. Bride will choose groom only if he drinks the same drink as her. Note : There are equal number of brides and grooms for the swayamvar. Tyrion as the hand of the king wants to know how many pairs will be left unmatched. \n",
    "\n",
    "Can you help Tyrion? \n",
    "\n",
    "### Constraints\n",
    "1<= N <= 10^4 \n",
    "\n",
    "#### Input Format \n",
    "First line contains one integer N, which denotes the number of brides and grooms taking part in the swayamvar. \n",
    "\n",
    "Second line contains a string in lowercase, of length N containing initial state of brides-to-be. \n",
    "\n",
    "Third line contains a string in lowercase, of length N containing initial state of grooms-to-be. Each string contains only lowercase 'r' and 'm' stating person at that index drinks \"rum\"(for 'r') or mojito(for 'm'). \n",
    "\n",
    "#### Output \n",
    "Output a single integer denoting the number of pairs left unmatched. \n",
    "\n",
    "#### Timeout \n",
    "\n",
    "1 \n",
    "\n",
    "#### Explanation \n",
    "##### Example 1 \n",
    "\n",
    "###### Input \n",
    "\n",
    "4 \n",
    "\n",
    "rrmm \n",
    "\n",
    "mrmr \n",
    "\n",
    "###### Output\n",
    "\n",
    "0 \n",
    "\n",
    "###### Explanation \n",
    "The bride at first place will only marry groom who drinks rum. So the groom at first place will join the end of the queue. Updated groom's queue is \"rmrm\". \n",
    "\n",
    "Now the bride at first place will marry the groom at first place. Updated bride's queue is \"rmm\" and groom's queue is \"mrm\". The process continues and at last there are no pairs left. So answer is 0. \n",
    "\n",
    "##### Example 2 \n",
    "\n",
    "###### Input \n",
    "4\n",
    "\n",
    "rmrm\n",
    "\n",
    "mmmr \n",
    "\n",
    "###### Output \n",
    "\n",
    "2\n",
    "\n",
    "###### Explanation \n",
    "Following the above process 2 pairs will be left unmatched. Remember that bride will not move until she gets a groom of her choice.\n",
    "\n"
   ]
  },
  {
   "cell_type": "code",
   "execution_count": 5,
   "metadata": {},
   "outputs": [
    {
     "name": "stdout",
     "output_type": "stream",
     "text": [
      "rmrm mmrm\n",
      "rmrm mrmm\n",
      "rmrm rmmm\n",
      "mrm mmm\n",
      "rm mm\n",
      "rm mm\n",
      "rm mm\n",
      "2\n"
     ]
    }
   ],
   "source": [
    "n = int(input())\n",
    "b = input()\n",
    "g = input()\n",
    "\n",
    "count = 0\n",
    "while True:\n",
    "    j = 0\n",
    "    while j < len(g) and len(b)>0:\n",
    "        if b[0] == g[0]:\n",
    "            b = b[1:]\n",
    "            g = g[1:]\n",
    "            count += 1\n",
    "            j = 0\n",
    "            break\n",
    "        else:\n",
    "            g = g[1:]+g[0]\n",
    "            j += 1\n",
    "    if j>= len(g) or len(b) == 0:\n",
    "        print(n-count)\n",
    "        break\n",
    "        \n"
   ]
  },
  {
   "cell_type": "code",
   "execution_count": null,
   "metadata": {},
   "outputs": [],
   "source": []
  }
 ],
 "metadata": {
  "kernelspec": {
   "display_name": "Python 3",
   "language": "python",
   "name": "python3"
  },
  "language_info": {
   "codemirror_mode": {
    "name": "ipython",
    "version": 3
   },
   "file_extension": ".py",
   "mimetype": "text/x-python",
   "name": "python",
   "nbconvert_exporter": "python",
   "pygments_lexer": "ipython3",
   "version": "3.7.1"
  }
 },
 "nbformat": 4,
 "nbformat_minor": 2
}
